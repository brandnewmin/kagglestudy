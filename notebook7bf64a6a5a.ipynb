{
 "cells": [
  {
   "cell_type": "code",
   "execution_count": 1,
   "id": "9c513b07",
   "metadata": {
    "_cell_guid": "b1076dfc-b9ad-4769-8c92-a6c4dae69d19",
    "_uuid": "8f2839f25d086af736a60e9eeb907d3b93b6e0e5",
    "execution": {
     "iopub.execute_input": "2021-10-11T14:02:31.459000Z",
     "iopub.status.busy": "2021-10-11T14:02:31.457835Z",
     "iopub.status.idle": "2021-10-11T14:02:31.471648Z",
     "shell.execute_reply": "2021-10-11T14:02:31.472143Z",
     "shell.execute_reply.started": "2021-10-11T13:59:45.838413Z"
    },
    "papermill": {
     "duration": 0.031458,
     "end_time": "2021-10-11T14:02:31.472469",
     "exception": false,
     "start_time": "2021-10-11T14:02:31.441011",
     "status": "completed"
    },
    "tags": []
   },
   "outputs": [
    {
     "name": "stdout",
     "output_type": "stream",
     "text": [
      "/kaggle/input/titanic/train.csv\n",
      "/kaggle/input/titanic/test.csv\n",
      "/kaggle/input/titanic/gender_submission.csv\n"
     ]
    }
   ],
   "source": [
    "# This Python 3 environment comes with many helpful analytics libraries installed\n",
    "# It is defined by the kaggle/python Docker image: https://github.com/kaggle/docker-python\n",
    "# For example, here's several helpful packages to load\n",
    "\n",
    "import numpy as np # linear algebra\n",
    "import pandas as pd # data processing, CSV file I/O (e.g. pd.read_csv)\n",
    "\n",
    "# Input data files are available in the read-only \"../input/\" directory\n",
    "# For example, running this (by clicking run or pressing Shift+Enter) will list all files under the input directory\n",
    "\n",
    "import os\n",
    "for dirname, _, filenames in os.walk('/kaggle/input'):\n",
    "    for filename in filenames:\n",
    "        print(os.path.join(dirname, filename))\n",
    "\n",
    "# You can write up to 20GB to the current directory (/kaggle/working/) that gets preserved as output when you create a version using \"Save & Run All\" \n",
    "# You can also write temporary files to /kaggle/temp/, but they won't be saved outside of the current session"
   ]
  },
  {
   "cell_type": "code",
   "execution_count": 2,
   "id": "cd77fc70",
   "metadata": {
    "execution": {
     "iopub.execute_input": "2021-10-11T14:02:31.501297Z",
     "iopub.status.busy": "2021-10-11T14:02:31.500660Z",
     "iopub.status.idle": "2021-10-11T14:02:32.497974Z",
     "shell.execute_reply": "2021-10-11T14:02:32.498542Z",
     "shell.execute_reply.started": "2021-10-11T13:59:45.857672Z"
    },
    "papermill": {
     "duration": 1.013601,
     "end_time": "2021-10-11T14:02:32.498757",
     "exception": false,
     "start_time": "2021-10-11T14:02:31.485156",
     "status": "completed"
    },
    "tags": []
   },
   "outputs": [],
   "source": [
    "import numpy as np\n",
    "import pandas as pd\n",
    "import matplotlib.pyplot as plt\n",
    "import seaborn as sns\n",
    "plt.style.use('fivethirtyeight')\n",
    "import warnings\n",
    "warnings.filterwarnings('ignore')\n",
    "%matplotlib inline"
   ]
  },
  {
   "cell_type": "code",
   "execution_count": 3,
   "id": "56373219",
   "metadata": {
    "execution": {
     "iopub.execute_input": "2021-10-11T14:02:32.526224Z",
     "iopub.status.busy": "2021-10-11T14:02:32.525593Z",
     "iopub.status.idle": "2021-10-11T14:02:32.567484Z",
     "shell.execute_reply": "2021-10-11T14:02:32.567965Z",
     "shell.execute_reply.started": "2021-10-11T13:59:46.196387Z"
    },
    "papermill": {
     "duration": 0.057233,
     "end_time": "2021-10-11T14:02:32.568133",
     "exception": false,
     "start_time": "2021-10-11T14:02:32.510900",
     "status": "completed"
    },
    "tags": []
   },
   "outputs": [
    {
     "data": {
      "text/html": [
       "<div>\n",
       "<style scoped>\n",
       "    .dataframe tbody tr th:only-of-type {\n",
       "        vertical-align: middle;\n",
       "    }\n",
       "\n",
       "    .dataframe tbody tr th {\n",
       "        vertical-align: top;\n",
       "    }\n",
       "\n",
       "    .dataframe thead th {\n",
       "        text-align: right;\n",
       "    }\n",
       "</style>\n",
       "<table border=\"1\" class=\"dataframe\">\n",
       "  <thead>\n",
       "    <tr style=\"text-align: right;\">\n",
       "      <th></th>\n",
       "      <th>PassengerId</th>\n",
       "      <th>Survived</th>\n",
       "      <th>Pclass</th>\n",
       "      <th>Name</th>\n",
       "      <th>Sex</th>\n",
       "      <th>Age</th>\n",
       "      <th>SibSp</th>\n",
       "      <th>Parch</th>\n",
       "      <th>Ticket</th>\n",
       "      <th>Fare</th>\n",
       "      <th>Cabin</th>\n",
       "      <th>Embarked</th>\n",
       "    </tr>\n",
       "  </thead>\n",
       "  <tbody>\n",
       "    <tr>\n",
       "      <th>0</th>\n",
       "      <td>1</td>\n",
       "      <td>0</td>\n",
       "      <td>3</td>\n",
       "      <td>Braund, Mr. Owen Harris</td>\n",
       "      <td>male</td>\n",
       "      <td>22.0</td>\n",
       "      <td>1</td>\n",
       "      <td>0</td>\n",
       "      <td>A/5 21171</td>\n",
       "      <td>7.2500</td>\n",
       "      <td>NaN</td>\n",
       "      <td>S</td>\n",
       "    </tr>\n",
       "    <tr>\n",
       "      <th>1</th>\n",
       "      <td>2</td>\n",
       "      <td>1</td>\n",
       "      <td>1</td>\n",
       "      <td>Cumings, Mrs. John Bradley (Florence Briggs Th...</td>\n",
       "      <td>female</td>\n",
       "      <td>38.0</td>\n",
       "      <td>1</td>\n",
       "      <td>0</td>\n",
       "      <td>PC 17599</td>\n",
       "      <td>71.2833</td>\n",
       "      <td>C85</td>\n",
       "      <td>C</td>\n",
       "    </tr>\n",
       "    <tr>\n",
       "      <th>2</th>\n",
       "      <td>3</td>\n",
       "      <td>1</td>\n",
       "      <td>3</td>\n",
       "      <td>Heikkinen, Miss. Laina</td>\n",
       "      <td>female</td>\n",
       "      <td>26.0</td>\n",
       "      <td>0</td>\n",
       "      <td>0</td>\n",
       "      <td>STON/O2. 3101282</td>\n",
       "      <td>7.9250</td>\n",
       "      <td>NaN</td>\n",
       "      <td>S</td>\n",
       "    </tr>\n",
       "    <tr>\n",
       "      <th>3</th>\n",
       "      <td>4</td>\n",
       "      <td>1</td>\n",
       "      <td>1</td>\n",
       "      <td>Futrelle, Mrs. Jacques Heath (Lily May Peel)</td>\n",
       "      <td>female</td>\n",
       "      <td>35.0</td>\n",
       "      <td>1</td>\n",
       "      <td>0</td>\n",
       "      <td>113803</td>\n",
       "      <td>53.1000</td>\n",
       "      <td>C123</td>\n",
       "      <td>S</td>\n",
       "    </tr>\n",
       "    <tr>\n",
       "      <th>4</th>\n",
       "      <td>5</td>\n",
       "      <td>0</td>\n",
       "      <td>3</td>\n",
       "      <td>Allen, Mr. William Henry</td>\n",
       "      <td>male</td>\n",
       "      <td>35.0</td>\n",
       "      <td>0</td>\n",
       "      <td>0</td>\n",
       "      <td>373450</td>\n",
       "      <td>8.0500</td>\n",
       "      <td>NaN</td>\n",
       "      <td>S</td>\n",
       "    </tr>\n",
       "  </tbody>\n",
       "</table>\n",
       "</div>"
      ],
      "text/plain": [
       "   PassengerId  Survived  Pclass  \\\n",
       "0            1         0       3   \n",
       "1            2         1       1   \n",
       "2            3         1       3   \n",
       "3            4         1       1   \n",
       "4            5         0       3   \n",
       "\n",
       "                                                Name     Sex   Age  SibSp  \\\n",
       "0                            Braund, Mr. Owen Harris    male  22.0      1   \n",
       "1  Cumings, Mrs. John Bradley (Florence Briggs Th...  female  38.0      1   \n",
       "2                             Heikkinen, Miss. Laina  female  26.0      0   \n",
       "3       Futrelle, Mrs. Jacques Heath (Lily May Peel)  female  35.0      1   \n",
       "4                           Allen, Mr. William Henry    male  35.0      0   \n",
       "\n",
       "   Parch            Ticket     Fare Cabin Embarked  \n",
       "0      0         A/5 21171   7.2500   NaN        S  \n",
       "1      0          PC 17599  71.2833   C85        C  \n",
       "2      0  STON/O2. 3101282   7.9250   NaN        S  \n",
       "3      0            113803  53.1000  C123        S  \n",
       "4      0            373450   8.0500   NaN        S  "
      ]
     },
     "execution_count": 3,
     "metadata": {},
     "output_type": "execute_result"
    }
   ],
   "source": [
    "data = pd.read_csv('../input/titanic/train.csv')\n",
    "data.head()"
   ]
  },
  {
   "cell_type": "markdown",
   "id": "108a566a",
   "metadata": {
    "papermill": {
     "duration": 0.012584,
     "end_time": "2021-10-11T14:02:32.593440",
     "exception": false,
     "start_time": "2021-10-11T14:02:32.580856",
     "status": "completed"
    },
    "tags": []
   },
   "source": [
    "# Part 1 : Exploratory Data Analysis(EDA)"
   ]
  },
  {
   "cell_type": "code",
   "execution_count": 4,
   "id": "268f6883",
   "metadata": {
    "execution": {
     "iopub.execute_input": "2021-10-11T14:02:32.622203Z",
     "iopub.status.busy": "2021-10-11T14:02:32.621593Z",
     "iopub.status.idle": "2021-10-11T14:02:32.629066Z",
     "shell.execute_reply": "2021-10-11T14:02:32.629600Z",
     "shell.execute_reply.started": "2021-10-11T13:59:46.238081Z"
    },
    "papermill": {
     "duration": 0.023587,
     "end_time": "2021-10-11T14:02:32.629767",
     "exception": false,
     "start_time": "2021-10-11T14:02:32.606180",
     "status": "completed"
    },
    "tags": []
   },
   "outputs": [
    {
     "data": {
      "text/plain": [
       "PassengerId      0\n",
       "Survived         0\n",
       "Pclass           0\n",
       "Name             0\n",
       "Sex              0\n",
       "Age            177\n",
       "SibSp            0\n",
       "Parch            0\n",
       "Ticket           0\n",
       "Fare             0\n",
       "Cabin          687\n",
       "Embarked         2\n",
       "dtype: int64"
      ]
     },
     "execution_count": 4,
     "metadata": {},
     "output_type": "execute_result"
    }
   ],
   "source": [
    "data.isnull().sum()"
   ]
  },
  {
   "cell_type": "code",
   "execution_count": 5,
   "id": "ba3513d4",
   "metadata": {
    "execution": {
     "iopub.execute_input": "2021-10-11T14:02:32.658766Z",
     "iopub.status.busy": "2021-10-11T14:02:32.658116Z",
     "iopub.status.idle": "2021-10-11T14:02:33.024067Z",
     "shell.execute_reply": "2021-10-11T14:02:33.024568Z",
     "shell.execute_reply.started": "2021-10-11T13:59:46.249477Z"
    },
    "papermill": {
     "duration": 0.382066,
     "end_time": "2021-10-11T14:02:33.024758",
     "exception": false,
     "start_time": "2021-10-11T14:02:32.642692",
     "status": "completed"
    },
    "tags": []
   },
   "outputs": [
    {
     "data": {
      "image/png": "[encoded data removed]",
      "text/plain": [
       "<Figure size 1296x576 with 2 Axes>"
      ]
     },
     "metadata": {
      "needs_background": "light"
     },
     "output_type": "display_data"
    }
   ],
   "source": [
    "f, ax = plt.subplots(1,2, figsize = (18,8))\n",
    "data['Survived'].value_counts().plot.pie(explode = [0,0.1], autopct='%1.1f%%',\n",
    "                                        ax = ax[0],shadow = True)\n",
    "ax[0].set_title('Survived')\n",
    "ax[0].set_ylabel('')\n",
    "\n",
    "sns.countplot('Survived', data= data, ax = ax[1])\n",
    "ax[1].set_title('Survived')\n",
    "plt.show()\n",
    "\n",
    "#0(죽은 사람)의 비율이 1(산 사람)의 비율보다 크다."
   ]
  },
  {
   "cell_type": "markdown",
   "id": "233a2a85",
   "metadata": {
    "papermill": {
     "duration": 0.014032,
     "end_time": "2021-10-11T14:02:33.053273",
     "exception": false,
     "start_time": "2021-10-11T14:02:33.039241",
     "status": "completed"
    },
    "tags": []
   },
   "source": [
    "We need to dig down more to get better insights from the data\n",
    "and see which categories of the passengers did survived and who didn't."
   ]
  },
  {
   "cell_type": "markdown",
   "id": "6889fc40",
   "metadata": {
    "papermill": {
     "duration": 0.013945,
     "end_time": "2021-10-11T14:02:33.081524",
     "exception": false,
     "start_time": "2021-10-11T14:02:33.067579",
     "status": "completed"
    },
    "tags": []
   },
   "source": [
    "### Categorical Features : Sex, Embarked\n",
    "a categorical variable is one that has two or more categories and each value in that feature can be categorised by them.\n",
    "   #### cannot sort or give any ordering to such variables.\n",
    "\n",
    "### Ordinal Features : PClass\n",
    "   #### can have relative ordering and sorting between the values.\n",
    "\n",
    "### Continous Features : Age"
   ]
  },
  {
   "cell_type": "markdown",
   "id": "3569e981",
   "metadata": {
    "papermill": {
     "duration": 0.013903,
     "end_time": "2021-10-11T14:02:33.109685",
     "exception": false,
     "start_time": "2021-10-11T14:02:33.095782",
     "status": "completed"
    },
    "tags": []
   },
   "source": [
    "## Categorical Feature : Sex"
   ]
  },
  {
   "cell_type": "code",
   "execution_count": 6,
   "id": "79381d70",
   "metadata": {
    "execution": {
     "iopub.execute_input": "2021-10-11T14:02:33.141647Z",
     "iopub.status.busy": "2021-10-11T14:02:33.140980Z",
     "iopub.status.idle": "2021-10-11T14:02:33.149133Z",
     "shell.execute_reply": "2021-10-11T14:02:33.149701Z",
     "shell.execute_reply.started": "2021-10-11T13:59:46.607258Z"
    },
    "papermill": {
     "duration": 0.025942,
     "end_time": "2021-10-11T14:02:33.149882",
     "exception": false,
     "start_time": "2021-10-11T14:02:33.123940",
     "status": "completed"
    },
    "tags": []
   },
   "outputs": [
    {
     "data": {
      "text/plain": [
       "Sex     Survived\n",
       "female  0            81\n",
       "        1           233\n",
       "male    0           468\n",
       "        1           109\n",
       "Name: Survived, dtype: int64"
      ]
     },
     "execution_count": 6,
     "metadata": {},
     "output_type": "execute_result"
    }
   ],
   "source": [
    "data.groupby(['Sex','Survived'])['Survived'].count()\n",
    "#사망/생존 인원 수 센다"
   ]
  },
  {
   "cell_type": "code",
   "execution_count": 7,
   "id": "5fe6df42",
   "metadata": {
    "execution": {
     "iopub.execute_input": "2021-10-11T14:02:33.184213Z",
     "iopub.status.busy": "2021-10-11T14:02:33.183559Z",
     "iopub.status.idle": "2021-10-11T14:02:33.197551Z",
     "shell.execute_reply": "2021-10-11T14:02:33.198087Z",
     "shell.execute_reply.started": "2021-10-11T13:59:46.620352Z"
    },
    "papermill": {
     "duration": 0.0335,
     "end_time": "2021-10-11T14:02:33.198255",
     "exception": false,
     "start_time": "2021-10-11T14:02:33.164755",
     "status": "completed"
    },
    "tags": []
   },
   "outputs": [
    {
     "data": {
      "text/html": [
       "<div>\n",
       "<style scoped>\n",
       "    .dataframe tbody tr th:only-of-type {\n",
       "        vertical-align: middle;\n",
       "    }\n",
       "\n",
       "    .dataframe tbody tr th {\n",
       "        vertical-align: top;\n",
       "    }\n",
       "\n",
       "    .dataframe thead th {\n",
       "        text-align: right;\n",
       "    }\n",
       "</style>\n",
       "<table border=\"1\" class=\"dataframe\">\n",
       "  <thead>\n",
       "    <tr style=\"text-align: right;\">\n",
       "      <th></th>\n",
       "      <th>Survived</th>\n",
       "    </tr>\n",
       "    <tr>\n",
       "      <th>Sex</th>\n",
       "      <th></th>\n",
       "    </tr>\n",
       "  </thead>\n",
       "  <tbody>\n",
       "    <tr>\n",
       "      <th>female</th>\n",
       "      <td>0.742038</td>\n",
       "    </tr>\n",
       "    <tr>\n",
       "      <th>male</th>\n",
       "      <td>0.188908</td>\n",
       "    </tr>\n",
       "  </tbody>\n",
       "</table>\n",
       "</div>"
      ],
      "text/plain": [
       "        Survived\n",
       "Sex             \n",
       "female  0.742038\n",
       "male    0.188908"
      ]
     },
     "execution_count": 7,
     "metadata": {},
     "output_type": "execute_result"
    }
   ],
   "source": [
    "data[['Sex','Survived']].groupby(['Sex']).mean()\n",
    "#성별 생존율"
   ]
  },
  {
   "cell_type": "code",
   "execution_count": 8,
   "id": "246cbe42",
   "metadata": {
    "execution": {
     "iopub.execute_input": "2021-10-11T14:02:33.231964Z",
     "iopub.status.busy": "2021-10-11T14:02:33.231249Z",
     "iopub.status.idle": "2021-10-11T14:02:33.598082Z",
     "shell.execute_reply": "2021-10-11T14:02:33.598609Z",
     "shell.execute_reply.started": "2021-10-11T13:59:46.640958Z"
    },
    "papermill": {
     "duration": 0.385501,
     "end_time": "2021-10-11T14:02:33.598787",
     "exception": false,
     "start_time": "2021-10-11T14:02:33.213286",
     "status": "completed"
    },
    "tags": []
   },
   "outputs": [
    {
     "data": {
      "image/png": "[encoded data removed]",
      "text/plain": [
       "<Figure size 1296x576 with 2 Axes>"
      ]
     },
     "metadata": {
      "needs_background": "light"
     },
     "output_type": "display_data"
    }
   ],
   "source": [
    "f, ax = plt.subplots(1,2, figsize = (18,8))\n",
    "\n",
    "data[['Sex','Survived']].groupby(['Sex']).mean().plot.bar(ax = ax[0])\n",
    "ax[0].set_title('Survived vs Sex')\n",
    "\n",
    "sns.countplot('Sex', hue = 'Survived', data =data, ax= ax[1])\n",
    "ax[1].set_title('Sex : Survived vs Dead')\n",
    "plt.show()"
   ]
  },
  {
   "cell_type": "markdown",
   "id": "81efd738",
   "metadata": {
    "papermill": {
     "duration": 0.015639,
     "end_time": "2021-10-11T14:02:33.630800",
     "exception": false,
     "start_time": "2021-10-11T14:02:33.615161",
     "status": "completed"
    },
    "tags": []
   },
   "source": [
    "## Ordinal Feauture : PClass"
   ]
  },
  {
   "cell_type": "code",
   "execution_count": 9,
   "id": "668372f1",
   "metadata": {
    "execution": {
     "iopub.execute_input": "2021-10-11T14:02:33.667030Z",
     "iopub.status.busy": "2021-10-11T14:02:33.666310Z",
     "iopub.status.idle": "2021-10-11T14:02:33.803567Z",
     "shell.execute_reply": "2021-10-11T14:02:33.804392Z",
     "shell.execute_reply.started": "2021-10-11T13:59:46.983517Z"
    },
    "papermill": {
     "duration": 0.157902,
     "end_time": "2021-10-11T14:02:33.804796",
     "exception": false,
     "start_time": "2021-10-11T14:02:33.646894",
     "status": "completed"
    },
    "tags": []
   },
   "outputs": [
    {
     "data": {
      "text/html": [
       "<style type=\"text/css\">\n",
       "#T_4cf2e_row0_col0, #T_4cf2e_row1_col1, #T_4cf2e_row1_col2 {\n",
       "  background-color: #008066;\n",
       "  color: #f1f1f1;\n",
       "}\n",
       "#T_4cf2e_row0_col1 {\n",
       "  background-color: #319866;\n",
       "  color: #f1f1f1;\n",
       "}\n",
       "#T_4cf2e_row0_col2 {\n",
       "  background-color: #0b8566;\n",
       "  color: #f1f1f1;\n",
       "}\n",
       "#T_4cf2e_row1_col0 {\n",
       "  background-color: #098466;\n",
       "  color: #f1f1f1;\n",
       "}\n",
       "#T_4cf2e_row2_col0 {\n",
       "  background-color: #9fcf66;\n",
       "  color: #000000;\n",
       "}\n",
       "#T_4cf2e_row2_col1 {\n",
       "  background-color: #209066;\n",
       "  color: #f1f1f1;\n",
       "}\n",
       "#T_4cf2e_row2_col2 {\n",
       "  background-color: #6fb766;\n",
       "  color: #f1f1f1;\n",
       "}\n",
       "#T_4cf2e_row3_col0, #T_4cf2e_row3_col1, #T_4cf2e_row3_col2 {\n",
       "  background-color: #ffff66;\n",
       "  color: #000000;\n",
       "}\n",
       "</style>\n",
       "<table id=\"T_4cf2e_\">\n",
       "  <thead>\n",
       "    <tr>\n",
       "      <th class=\"index_name level0\" >Survived</th>\n",
       "      <th class=\"col_heading level0 col0\" >0</th>\n",
       "      <th class=\"col_heading level0 col1\" >1</th>\n",
       "      <th class=\"col_heading level0 col2\" >All</th>\n",
       "    </tr>\n",
       "    <tr>\n",
       "      <th class=\"index_name level0\" >Pclass</th>\n",
       "      <th class=\"blank col0\" >&nbsp;</th>\n",
       "      <th class=\"blank col1\" >&nbsp;</th>\n",
       "      <th class=\"blank col2\" >&nbsp;</th>\n",
       "    </tr>\n",
       "  </thead>\n",
       "  <tbody>\n",
       "    <tr>\n",
       "      <th id=\"T_4cf2e_level0_row0\" class=\"row_heading level0 row0\" >1</th>\n",
       "      <td id=\"T_4cf2e_row0_col0\" class=\"data row0 col0\" >80</td>\n",
       "      <td id=\"T_4cf2e_row0_col1\" class=\"data row0 col1\" >136</td>\n",
       "      <td id=\"T_4cf2e_row0_col2\" class=\"data row0 col2\" >216</td>\n",
       "    </tr>\n",
       "    <tr>\n",
       "      <th id=\"T_4cf2e_level0_row1\" class=\"row_heading level0 row1\" >2</th>\n",
       "      <td id=\"T_4cf2e_row1_col0\" class=\"data row1 col0\" >97</td>\n",
       "      <td id=\"T_4cf2e_row1_col1\" class=\"data row1 col1\" >87</td>\n",
       "      <td id=\"T_4cf2e_row1_col2\" class=\"data row1 col2\" >184</td>\n",
       "    </tr>\n",
       "    <tr>\n",
       "      <th id=\"T_4cf2e_level0_row2\" class=\"row_heading level0 row2\" >3</th>\n",
       "      <td id=\"T_4cf2e_row2_col0\" class=\"data row2 col0\" >372</td>\n",
       "      <td id=\"T_4cf2e_row2_col1\" class=\"data row2 col1\" >119</td>\n",
       "      <td id=\"T_4cf2e_row2_col2\" class=\"data row2 col2\" >491</td>\n",
       "    </tr>\n",
       "    <tr>\n",
       "      <th id=\"T_4cf2e_level0_row3\" class=\"row_heading level0 row3\" >All</th>\n",
       "      <td id=\"T_4cf2e_row3_col0\" class=\"data row3 col0\" >549</td>\n",
       "      <td id=\"T_4cf2e_row3_col1\" class=\"data row3 col1\" >342</td>\n",
       "      <td id=\"T_4cf2e_row3_col2\" class=\"data row3 col2\" >891</td>\n",
       "    </tr>\n",
       "  </tbody>\n",
       "</table>\n"
      ],
      "text/plain": [
       "<pandas.io.formats.style.Styler at 0x7fe7f064ab90>"
      ]
     },
     "execution_count": 9,
     "metadata": {},
     "output_type": "execute_result"
    }
   ],
   "source": [
    "pd.crosstab(data.Pclass, data.Survived, margins = True).style.background_gradient(cmap = 'summer')"
   ]
  },
  {
   "cell_type": "code",
   "execution_count": 10,
   "id": "3feb8b88",
   "metadata": {
    "execution": {
     "iopub.execute_input": "2021-10-11T14:02:33.855231Z",
     "iopub.status.busy": "2021-10-11T14:02:33.854450Z",
     "iopub.status.idle": "2021-10-11T14:02:34.331574Z",
     "shell.execute_reply": "2021-10-11T14:02:34.329507Z"
    },
    "papermill": {
     "duration": 0.503059,
     "end_time": "2021-10-11T14:02:34.331920",
     "exception": true,
     "start_time": "2021-10-11T14:02:33.828861",
     "status": "failed"
    },
    "tags": []
   },
   "outputs": [
    {
     "ename": "TypeError",
     "evalue": "set_title() missing 1 required positional argument: 'label'",
     "output_type": "error",
     "traceback": [
      "\u001b[0;31m---------------------------------------------------------------------------\u001b[0m",
      "\u001b[0;31mTypeError\u001b[0m                                 Traceback (most recent call last)",
      "\u001b[0;32m/tmp/ipykernel_20/2661385165.py\u001b[0m in \u001b[0;36m<module>\u001b[0;34m\u001b[0m\n\u001b[1;32m      1\u001b[0m \u001b[0mf\u001b[0m\u001b[0;34m,\u001b[0m \u001b[0max\u001b[0m \u001b[0;34m=\u001b[0m \u001b[0mplt\u001b[0m\u001b[0;34m.\u001b[0m\u001b[0msubplots\u001b[0m\u001b[0;34m(\u001b[0m\u001b[0;36m1\u001b[0m\u001b[0;34m,\u001b[0m\u001b[0;36m2\u001b[0m\u001b[0;34m,\u001b[0m \u001b[0mfigsize\u001b[0m \u001b[0;34m=\u001b[0m \u001b[0;34m(\u001b[0m\u001b[0;36m18\u001b[0m\u001b[0;34m,\u001b[0m\u001b[0;36m8\u001b[0m\u001b[0;34m)\u001b[0m\u001b[0;34m)\u001b[0m\u001b[0;34m\u001b[0m\u001b[0;34m\u001b[0m\u001b[0m\n\u001b[1;32m      2\u001b[0m \u001b[0mdata\u001b[0m\u001b[0;34m[\u001b[0m\u001b[0;34m'Pclass'\u001b[0m\u001b[0;34m]\u001b[0m\u001b[0;34m.\u001b[0m\u001b[0mvalue_counts\u001b[0m\u001b[0;34m(\u001b[0m\u001b[0;34m)\u001b[0m\u001b[0;34m.\u001b[0m\u001b[0mplot\u001b[0m\u001b[0;34m.\u001b[0m\u001b[0mbar\u001b[0m\u001b[0;34m(\u001b[0m\u001b[0mcolor\u001b[0m \u001b[0;34m=\u001b[0m \u001b[0;34m[\u001b[0m\u001b[0;34m'#CD7F32'\u001b[0m\u001b[0;34m,\u001b[0m\u001b[0;34m'#FFDF00'\u001b[0m\u001b[0;34m,\u001b[0m\u001b[0;34m'#D3D3D3'\u001b[0m\u001b[0;34m]\u001b[0m\u001b[0;34m,\u001b[0m \u001b[0max\u001b[0m \u001b[0;34m=\u001b[0m \u001b[0max\u001b[0m\u001b[0;34m[\u001b[0m\u001b[0;36m0\u001b[0m\u001b[0;34m]\u001b[0m\u001b[0;34m)\u001b[0m\u001b[0;34m\u001b[0m\u001b[0;34m\u001b[0m\u001b[0m\n\u001b[0;32m----> 3\u001b[0;31m \u001b[0max\u001b[0m\u001b[0;34m[\u001b[0m\u001b[0;36m0\u001b[0m\u001b[0;34m]\u001b[0m\u001b[0;34m.\u001b[0m\u001b[0mset_title\u001b[0m\u001b[0;34m(\u001b[0m\u001b[0;34m)\u001b[0m\u001b[0;34m\u001b[0m\u001b[0;34m\u001b[0m\u001b[0m\n\u001b[0m",
      "\u001b[0;31mTypeError\u001b[0m: set_title() missing 1 required positional argument: 'label'"
     ]
    },
    {
     "data": {
      "image/png": "[encoded data removed]",
      "text/plain": [
       "<Figure size 1296x576 with 2 Axes>"
      ]
     },
     "metadata": {
      "needs_background": "light"
     },
     "output_type": "display_data"
    }
   ],
   "source": [
    "f, ax = plt.subplots(1,2, figsize = (18,8))\n",
    "data['Pclass'].value_counts().plot.bar(color = ['#CD7F32','#FFDF00','#D3D3D3'], ax = ax[0])\n",
    "ax[0].set_title()"
   ]
  }
 ],
 "metadata": {
  "kernelspec": {
   "display_name": "Python 3",
   "language": "python",
   "name": "python3"
  },
  "language_info": {
   "codemirror_mode": {
    "name": "ipython",
    "version": 3
   },
   "file_extension": ".py",
   "mimetype": "text/x-python",
   "name": "python",
   "nbconvert_exporter": "python",
   "pygments_lexer": "ipython3",
   "version": "3.7.10"
  },
  "papermill": {
   "default_parameters": {},
   "duration": 12.8525,
   "end_time": "2021-10-11T14:02:35.714083",
   "environment_variables": {},
   "exception": true,
   "input_path": "__notebook__.ipynb",
   "output_path": "__notebook__.ipynb",
   "parameters": {},
   "start_time": "2021-10-11T14:02:22.861583",
   "version": "2.3.3"
  }
 },
 "nbformat": 4,
 "nbformat_minor": 5
}
